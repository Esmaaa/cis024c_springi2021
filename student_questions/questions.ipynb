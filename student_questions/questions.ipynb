{
 "cells": [
  {
   "cell_type": "code",
   "execution_count": 1,
   "metadata": {},
   "outputs": [
    {
     "name": "stdout",
     "output_type": "stream",
     "text": [
      "Enter your first name:bob\n",
      "found bob\n"
     ]
    }
   ],
   "source": [
    "name_to_find = \"Bob\"\n",
    "\n",
    "while True:\n",
    "    first_name = input(\"Enter your first name:\")\n",
    "    if first_name.lower() == name_to_find.lower():\n",
    "        print(\"found bob\")\n",
    "        break\n",
    "    else:\n",
    "        print(\"Next please...\")\n",
    "        continue"
   ]
  },
  {
   "cell_type": "code",
   "execution_count": 4,
   "metadata": {},
   "outputs": [
    {
     "name": "stdout",
     "output_type": "stream",
     "text": [
      "Overwriting main.py\n"
     ]
    }
   ],
   "source": [
    "%%writefile main.py\n",
    "\n",
    "from sys import argv\n",
    "\n",
    "script,filename = argv\n",
    "\n",
    "txt = open(filename)\n",
    "\n",
    "print(\"Here's your file %r:\" % filename)\n",
    "print(txt.read())\n",
    "\n",
    "print(\"Type the filename again:\")\n",
    "file_again = input(\"> \")\n",
    "\n",
    "txt_again = open(file_again)\n",
    "\n",
    "print(txt_again.read())"
   ]
  },
  {
   "cell_type": "code",
   "execution_count": 3,
   "metadata": {},
   "outputs": [
    {
     "name": "stdout",
     "output_type": "stream",
     "text": [
      "Here's your file 'test.txt':\n",
      "jack and jill went up the hill\n",
      "\n",
      "\n",
      "Type the filename again:\n",
      "> ^C\n",
      "Traceback (most recent call last):\n",
      "  File \"main.py\", line 12, in <module>\n",
      "    file_again = input(\"> \")\n",
      "KeyboardInterrupt\n"
     ]
    }
   ],
   "source": [
    "!python main.py test.txt"
   ]
  },
  {
   "cell_type": "code",
   "execution_count": 5,
   "metadata": {},
   "outputs": [
    {
     "name": "stdout",
     "output_type": "stream",
     "text": [
      "Enter the filename:test.txt\n",
      "Here's your file 'test.txt':\n",
      "jack and jill went up the hill\n",
      "\n",
      "\n",
      "Type the filename again:\n",
      "> test.txt\n",
      "jack and jill went up the hill\n",
      "\n",
      "\n"
     ]
    }
   ],
   "source": [
    "\n",
    "#from sys import argv\n",
    "\n",
    "\n",
    "filename = input(\"Enter the filename:\")\n",
    "\n",
    "txt = open(filename)\n",
    "\n",
    "print(\"Here's your file %r:\" % filename)\n",
    "print(txt.read())\n",
    "\n",
    "print(\"Type the filename again:\")\n",
    "file_again = input(\"> \")\n",
    "\n",
    "txt_again = open(file_again)\n",
    "\n",
    "print(txt_again.read())"
   ]
  },
  {
   "cell_type": "code",
   "execution_count": null,
   "metadata": {},
   "outputs": [],
   "source": []
  }
 ],
 "metadata": {
  "kernelspec": {
   "display_name": "Python 3",
   "language": "python",
   "name": "python3"
  },
  "language_info": {
   "codemirror_mode": {
    "name": "ipython",
    "version": 3
   },
   "file_extension": ".py",
   "mimetype": "text/x-python",
   "name": "python",
   "nbconvert_exporter": "python",
   "pygments_lexer": "ipython3",
   "version": "3.7.6"
  }
 },
 "nbformat": 4,
 "nbformat_minor": 4
}
